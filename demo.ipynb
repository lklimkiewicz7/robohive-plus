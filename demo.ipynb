{
 "cells": [
  {
   "cell_type": "code",
   "execution_count": 1,
   "metadata": {},
   "outputs": [
    {
     "name": "stdout",
     "output_type": "stream",
     "text": [
      "RoboHive:> Registering Arms Envs\n",
      "RoboHive:> Registering Myo Envs\n",
      "RoboHive:> Registering Hand Envs\n",
      "RoboHive:> Registering Claw Envs\n",
      "RoboHive:> Registering Appliances Envs\n",
      "RoboHive:> Registering Multi-Task (2 subtasks) Envs\n",
      "RoboHive:> Registering FrankaKitchen (FK1) Envs\n",
      "RoboHive:> Registering Multi-Task (9 subtasks) Envs\n",
      "RoboHive:> Registering Quadruped Envs\n",
      "RoboHive:> Registering Interbotix Arms Envs\n"
     ]
    }
   ],
   "source": [
    "import gym \n",
    "import robohive\n",
    "from pprint import pprint\n",
    "import matplotlib.pyplot as plt"
   ]
  },
  {
   "cell_type": "code",
   "execution_count": 5,
   "metadata": {},
   "outputs": [
    {
     "name": "stderr",
     "output_type": "stream",
     "text": [
      "[INFO] [1699089242.073455410] [arm0.robot_manipulation]: \n",
      "\tRobot Name: arm0\n",
      "\tRobot Model: vx300s\n",
      "[INFO] [1699089242.077086124] [arm0.robot_manipulation]: Initialized InterbotixRobotXSCore!\n",
      "[INFO] [1699089242.085533610] [arm0.robot_manipulation]: \n",
      "\tArm Group Name: arm\n",
      "\tMoving Time: 2.00 seconds\n",
      "\tAcceleration Time: 0.30 seconds\n",
      "\tDrive Mode: Time-Based-Profile\n",
      "[INFO] [1699089242.086278357] [arm0.robot_manipulation]: Initialized InterbotixArmXSInterface!\n",
      "[INFO] [1699089242.118377041] [arm1.robot_manipulation]: \n",
      "\tRobot Name: arm1\n",
      "\tRobot Model: vx300s\n",
      "[INFO] [1699089242.119077050] [arm1.robot_manipulation]: Initialized InterbotixRobotXSCore!\n",
      "[INFO] [1699089242.125121266] [arm1.robot_manipulation]: \n",
      "\tArm Group Name: arm\n",
      "\tMoving Time: 2.00 seconds\n",
      "\tAcceleration Time: 0.30 seconds\n",
      "\tDrive Mode: Time-Based-Profile\n",
      "[INFO] [1699089242.125875731] [arm1.robot_manipulation]: Initialized InterbotixArmXSInterface!\n"
     ]
    },
    {
     "name": "stdout",
     "output_type": "stream",
     "text": [
      "Fake realsense connected\n",
      "Fake realsense connected\n",
      "Fake realsense connected\n",
      "Fake realsense connected\n",
      "Fake realsense okay\n",
      "Fake realsense okay\n",
      "Fake realsense okay\n",
      "Fake realsense okay\n"
     ]
    },
    {
     "data": {
      "text/plain": [
       "array([ 0.    , -1.85  ,  1.55  ,  0.    ,  0.8   ,  0.    ,  0.    ,\n",
       "        0.0285, -0.0285,  0.    ,  0.    ,  0.    ,  0.    ,  0.    ,\n",
       "        0.    ,  0.    ,  0.    ,  0.    ,  0.    , -1.85  ,  1.55  ,\n",
       "        0.    ,  0.8   ,  0.    ,  0.    ,  0.0285, -0.0285,  0.    ,\n",
       "        0.    ,  0.    ,  0.    ,  0.    ,  0.    ,  0.    ,  0.    ,\n",
       "        0.    ])"
      ]
     },
     "execution_count": 5,
     "metadata": {},
     "output_type": "execute_result"
    }
   ],
   "source": [
    "env = gym.make(\n",
    "    'InterbotixVx300sDualCamSimple-v0',\n",
    "    is_hardware=True\n",
    ")\n",
    "env.reset()"
   ]
  },
  {
   "cell_type": "code",
   "execution_count": 6,
   "metadata": {},
   "outputs": [
    {
     "name": "stdout",
     "output_type": "stream",
     "text": [
      "\u001b[43m\u001b[30mStep duration 0.0800s, Step took 1.7175s, Time left -1.6375\u001b[0m\n"
     ]
    }
   ],
   "source": [
    "# Lets step is few times\n",
    "for _ in range(5):\n",
    "    allinfo_tdt = env.step(env.action_space.sample())"
   ]
  },
  {
   "cell_type": "code",
   "execution_count": 7,
   "metadata": {},
   "outputs": [
    {
     "data": {
      "text/plain": [
       "{'time': array([7.1484]),\n",
       " 'qp_arm0': array([-0.5027, -1.3138,  1.0138, -0.5362,  0.2891,  0.5194, -0.0034,\n",
       "         0.0284, -0.0284]),\n",
       " 'qv_arm0': array([0., 0., 0., 0., 0., 0., 0., 0., 0.]),\n",
       " 'qp_arm1': array([-0.4859, -1.3138,  1.019 , -0.5027,  1.1913,  0.4787, -0.5778,\n",
       "         0.0189, -0.0189]),\n",
       " 'qv_arm1': array([0., 0., 0., 0., 0., 0., 0., 0., 0.])}"
      ]
     },
     "execution_count": 7,
     "metadata": {},
     "output_type": "execute_result"
    }
   ],
   "source": [
    "obs = env.get_obs()\n",
    "env.obs_dict"
   ]
  },
  {
   "cell_type": "code",
   "execution_count": null,
   "metadata": {},
   "outputs": [],
   "source": [
    "extero_dict = env.get_exteroception()\n",
    "print(list(extero_dict.keys()))\n",
    "\n",
    "for name, img in extero_dict.items():\n",
    "    if name == 'time':\n",
    "        continue\n",
    "    print(name)\n",
    "    plt.imshow(img)\n",
    "    plt.show()"
   ]
  }
 ],
 "metadata": {
  "kernelspec": {
   "display_name": "robohive",
   "language": "python",
   "name": "python3"
  },
  "language_info": {
   "codemirror_mode": {
    "name": "ipython",
    "version": 3
   },
   "file_extension": ".py",
   "mimetype": "text/x-python",
   "name": "python",
   "nbconvert_exporter": "python",
   "pygments_lexer": "ipython3",
   "version": "3.10.6"
  },
  "orig_nbformat": 4
 },
 "nbformat": 4,
 "nbformat_minor": 2
}
